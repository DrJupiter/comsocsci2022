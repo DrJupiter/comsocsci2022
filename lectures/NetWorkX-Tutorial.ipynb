{
 "cells": [
  {
   "cell_type": "code",
   "execution_count": 1,
   "id": "ff050512",
   "metadata": {},
   "outputs": [],
   "source": [
    "import networkx as nx"
   ]
  },
  {
   "cell_type": "code",
   "execution_count": 2,
   "id": "218532d4",
   "metadata": {},
   "outputs": [],
   "source": [
    "G = nx.Graph()"
   ]
  },
  {
   "cell_type": "code",
   "execution_count": 4,
   "id": "bf8d8b1a",
   "metadata": {},
   "outputs": [],
   "source": [
    "G.add_node(1)"
   ]
  },
  {
   "cell_type": "code",
   "execution_count": 7,
   "id": "a25aa794",
   "metadata": {},
   "outputs": [],
   "source": [
    "G.add_nodes_from([2,4])"
   ]
  },
  {
   "cell_type": "code",
   "execution_count": 10,
   "id": "f944448c",
   "metadata": {},
   "outputs": [],
   "source": [
    "G.add_nodes_from([\n",
    "\n",
    "    (4, {\"color\": \"red\"}),\n",
    "\n",
    "    (5, {\"color\": \"green\"}),\n",
    "\n",
    "])"
   ]
  },
  {
   "cell_type": "code",
   "execution_count": 11,
   "id": "c209fcf6",
   "metadata": {},
   "outputs": [
    {
     "data": {
      "text/plain": [
       "NodeView((1, 2, 4, 5))"
      ]
     },
     "execution_count": 11,
     "metadata": {},
     "output_type": "execute_result"
    }
   ],
   "source": [
    "G.nodes"
   ]
  },
  {
   "cell_type": "code",
   "execution_count": 20,
   "id": "11a5c25c",
   "metadata": {},
   "outputs": [
    {
     "data": {
      "text/plain": [
       "NodeDataView({1: {}, 2: {}, 4: {'color': 'red'}, 5: {'color': 'green'}})"
      ]
     },
     "execution_count": 20,
     "metadata": {},
     "output_type": "execute_result"
    }
   ],
   "source": [
    "G.nodes.data()"
   ]
  },
  {
   "cell_type": "code",
   "execution_count": 23,
   "id": "dab0b221",
   "metadata": {},
   "outputs": [
    {
     "name": "stdout",
     "output_type": "stream",
     "text": [
      "Graph with 10 nodes and 9 edges [0, 1, 2, 3, 4, 5, 6, 7, 8, 9] [(0, 1), (1, 2), (2, 3), (3, 4), (4, 5), (5, 6), (6, 7), (7, 8), (8, 9)]\n"
     ]
    }
   ],
   "source": [
    "H = nx.path_graph(10)\n",
    "print(H,H.nodes,H.edges)"
   ]
  },
  {
   "cell_type": "code",
   "execution_count": 24,
   "id": "6b2a7a00",
   "metadata": {},
   "outputs": [],
   "source": [
    "G.add_nodes_from(H)"
   ]
  },
  {
   "cell_type": "code",
   "execution_count": 26,
   "id": "b5abcc4f",
   "metadata": {},
   "outputs": [
    {
     "data": {
      "text/plain": [
       "(NodeView((1, 2, 4, 5, 0, 3, 6, 7, 8, 9)),\n",
       " NodeDataView({1: {}, 2: {}, 4: {'color': 'red'}, 5: {'color': 'green'}, 0: {}, 3: {}, 6: {}, 7: {}, 8: {}, 9: {}}))"
      ]
     },
     "execution_count": 26,
     "metadata": {},
     "output_type": "execute_result"
    }
   ],
   "source": [
    "G.nodes, G.nodes.data()"
   ]
  },
  {
   "cell_type": "code",
   "execution_count": 27,
   "id": "511f3a5e",
   "metadata": {},
   "outputs": [
    {
     "data": {
      "text/plain": [
       "(NodeView((1, 2, 4, 5, 0, 3, 6, 7, 8, 9, <networkx.classes.graph.Graph object at 0x7f057fe4c790>)),\n",
       " NodeDataView({1: {}, 2: {}, 4: {'color': 'red'}, 5: {'color': 'green'}, 0: {}, 3: {}, 6: {}, 7: {}, 8: {}, 9: {}, <networkx.classes.graph.Graph object at 0x7f057fe4c790>: {}}))"
      ]
     },
     "execution_count": 27,
     "metadata": {},
     "output_type": "execute_result"
    }
   ],
   "source": [
    "G.add_node(H)\n",
    "G.nodes, G.nodes.data()"
   ]
  },
  {
   "cell_type": "code",
   "execution_count": 29,
   "id": "1cec8a83",
   "metadata": {},
   "outputs": [
    {
     "data": {
      "text/plain": [
       "DegreeView({0: 1, 1: 2, 2: 2, 3: 2, 4: 2, 5: 2, 6: 2, 7: 2, 8: 2, 9: 1})"
      ]
     },
     "execution_count": 29,
     "metadata": {},
     "output_type": "execute_result"
    }
   ],
   "source": [
    "H.degree"
   ]
  }
 ],
 "metadata": {
  "kernelspec": {
   "display_name": "Python 3",
   "language": "python",
   "name": "python3"
  },
  "language_info": {
   "codemirror_mode": {
    "name": "ipython",
    "version": 3
   },
   "file_extension": ".py",
   "mimetype": "text/x-python",
   "name": "python",
   "nbconvert_exporter": "python",
   "pygments_lexer": "ipython3",
   "version": "3.8.10"
  }
 },
 "nbformat": 4,
 "nbformat_minor": 5
}
